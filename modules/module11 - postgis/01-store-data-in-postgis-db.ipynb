{
 "cells": [
  {
   "cell_type": "markdown",
   "metadata": {},
   "source": [
    "# Store tracts and points in PostGIS\n",
    "\n",
    "...for a fast spatial-join of points to tracts.\n",
    "\n",
    "First, install postgres, postgis, and psycopg2. Then create the database from command prompt if it doesn't already exist:\n",
    "\n",
    "```\n",
    "createdb -U postgres points_tracts\n",
    "psql -U postgres -d points_tracts -c \"CREATE EXTENSION postgis;\"\n",
    "```\n",
    "\n",
    "More info in the psycopg2 docs: http://initd.org/psycopg/docs/usage.html"
   ]
  },
  {
   "cell_type": "code",
   "execution_count": null,
   "metadata": {},
   "outputs": [],
   "source": [
    "import geopandas as gpd\n",
    "import pandas as pd\n",
    "import psycopg2\n",
    "from shapely.geometry import Point\n",
    "from keys import pg_user, pg_pass, pg_host, pg_port, pg_db\n",
    "\n",
    "crs = {'init' : 'epsg:4326'}"
   ]
  },
  {
   "cell_type": "code",
   "execution_count": null,
   "metadata": {},
   "outputs": [],
   "source": [
    "%%time\n",
    "# load tracts and project to 4326\n",
    "tracts = gpd.read_file('data/us_census_tracts_2014')\n",
    "tracts = tracts.to_crs(crs)\n",
    "print(len(tracts))"
   ]
  },
  {
   "cell_type": "code",
   "execution_count": null,
   "metadata": {},
   "outputs": [],
   "source": [
    "%%time\n",
    "# load points and set initial crs to 4326\n",
    "points = pd.read_csv('data/points-dataset.csv')\n",
    "geometry = points.apply(lambda row: Point((row['lng'], row['lat'])), axis=1)\n",
    "points = gpd.GeoDataFrame(points, geometry=geometry, crs=crs)\n",
    "print(len(points))"
   ]
  },
  {
   "cell_type": "code",
   "execution_count": null,
   "metadata": {},
   "outputs": [],
   "source": [
    "assert tracts.crs == points.crs\n",
    "# srid is the numeric spatial reference ID PostGIS uses\n",
    "srid = tracts.crs['init'].strip('epsg:')"
   ]
  },
  {
   "cell_type": "code",
   "execution_count": null,
   "metadata": {},
   "outputs": [],
   "source": [
    "#points = points.sample(1000)\n",
    "#tracts = tracts[['GEOID', 'ALAND', 'geometry']].sample(1000)"
   ]
  },
  {
   "cell_type": "markdown",
   "metadata": {},
   "source": [
    "## Upload tracts and points to PostGIS"
   ]
  },
  {
   "cell_type": "code",
   "execution_count": null,
   "metadata": {},
   "outputs": [],
   "source": [
    "connection = psycopg2.connect(database=pg_db,\n",
    "                              user=pg_user,\n",
    "                              password=pg_pass,\n",
    "                              host=pg_host,\n",
    "                              port=pg_port)\n",
    "cursor = connection.cursor()"
   ]
  },
  {
   "cell_type": "code",
   "execution_count": null,
   "metadata": {},
   "outputs": [],
   "source": [
    "# list all tables\n",
    "cursor.execute(\"select relname from pg_class where relkind='r' and relname !~ '^(pg_|sql_)'\")\n",
    "cursor.fetchall()"
   ]
  },
  {
   "cell_type": "markdown",
   "metadata": {},
   "source": [
    "#### add tracts table"
   ]
  },
  {
   "cell_type": "code",
   "execution_count": null,
   "metadata": {},
   "outputs": [],
   "source": [
    "# drop tracts table if it already exists, then create tracts table\n",
    "cursor.execute(\"DROP TABLE IF EXISTS tracts\")\n",
    "cursor.execute(\"CREATE TABLE tracts (id SERIAL PRIMARY KEY, geoid VARCHAR NOT NULL, aland BIGINT NOT NULL)\")\n",
    "cursor.execute(\"SELECT AddGeometryColumn ('tracts', 'geom', %s, 'MULTIPOLYGON', 2)\", [srid])\n",
    "cursor.execute(\"CREATE INDEX tract_index ON tracts USING GIST(geom)\")\n",
    "connection.commit()"
   ]
  },
  {
   "cell_type": "code",
   "execution_count": null,
   "metadata": {},
   "outputs": [],
   "source": [
    "%%time\n",
    "cursor.execute(\"DELETE FROM tracts\")\n",
    "\n",
    "# insert each tract into the tracts table one at a time\n",
    "for label, row in tracts.iterrows():\n",
    "    geoid = row['GEOID']\n",
    "    aland = row['ALAND']\n",
    "    geometry_wkt = row['geometry'].wkt\n",
    "    \n",
    "    query = \"\"\"INSERT INTO tracts (geoid, aland, geom) \n",
    "               VALUES (%s, %s, ST_Multi(ST_GeomFromText(%s, %s)))\"\"\"\n",
    "    data = (geoid, aland, geometry_wkt, srid)\n",
    "    cursor.execute(query, data)\n",
    "\n",
    "connection.commit()"
   ]
  },
  {
   "cell_type": "markdown",
   "metadata": {},
   "source": [
    "#### add points table"
   ]
  },
  {
   "cell_type": "code",
   "execution_count": null,
   "metadata": {},
   "outputs": [],
   "source": [
    "# drop points table if it already exists, then create points table\n",
    "cursor.execute(\"DROP TABLE IF EXISTS points\")\n",
    "cursor.execute(\"\"\"CREATE TABLE points (id SERIAL PRIMARY KEY,\n",
    "                                         date VARCHAR NOT NULL,\n",
    "                                         region VARCHAR NOT NULL,\n",
    "                                         bedrooms INTEGER,\n",
    "                                         rent REAL,\n",
    "                                         sqft REAL)\"\"\")\n",
    "cursor.execute(\"SELECT AddGeometryColumn ('points', 'geom', %s, 'POINT', 2)\", [srid])\n",
    "cursor.execute(\"CREATE INDEX point_index ON points USING GIST(geom)\")\n",
    "connection.commit()"
   ]
  },
  {
   "cell_type": "code",
   "execution_count": null,
   "metadata": {},
   "outputs": [],
   "source": [
    "%%time\n",
    "cursor.execute(\"DELETE FROM points\")\n",
    "\n",
    "# insert each point into the points table one at a time\n",
    "for label, row in points.iterrows():\n",
    "    date = row['date']\n",
    "    region = row['region']\n",
    "    bedrooms = row['bedrooms']\n",
    "    rent = row['rent']\n",
    "    sqft = row['sqft']\n",
    "    geometry_wkt = row['geometry'].wkt\n",
    "    \n",
    "    # bedrooms can be null, but must be None for psycopg2 to insert it as a null value, not a 'NaN' string\n",
    "    if pd.isnull(bedrooms):\n",
    "        bedrooms = None\n",
    "    \n",
    "    query = \"\"\"\n",
    "            INSERT INTO points (date, region, bedrooms, rent, sqft, geom)\n",
    "            VALUES (%s, %s, %s, %s, %s, ST_GeomFromText(%s, %s))\n",
    "            \"\"\"\n",
    "    data = (date, region, bedrooms, rent, sqft, geometry_wkt, srid)\n",
    "    cursor.execute(query, data)\n",
    "\n",
    "connection.commit()"
   ]
  },
  {
   "cell_type": "markdown",
   "metadata": {},
   "source": [
    "#### optimize the database"
   ]
  },
  {
   "cell_type": "code",
   "execution_count": null,
   "metadata": {},
   "outputs": [],
   "source": [
    "%%time\n",
    "# vacuum and analyze the database to optimize it after building indices and inserting rows\n",
    "original_isolation_level = connection.isolation_level\n",
    "connection.set_isolation_level(0)\n",
    "cursor.execute(\"VACUUM ANALYZE\")\n",
    "connection.commit()\n",
    "connection.set_isolation_level(original_isolation_level)"
   ]
  },
  {
   "cell_type": "markdown",
   "metadata": {},
   "source": [
    "#### verify SRIDs, row counts, and data"
   ]
  },
  {
   "cell_type": "code",
   "execution_count": null,
   "metadata": {},
   "outputs": [],
   "source": [
    "# look up the SRIDs\n",
    "cursor.execute(\"\"\"SELECT\n",
    "                   Find_SRID('public', 'tracts', 'geom') as tracts_srid,\n",
    "                   Find_SRID('public', 'points', 'geom') as points_srid\"\"\")\n",
    "cursor.fetchall()"
   ]
  },
  {
   "cell_type": "code",
   "execution_count": null,
   "metadata": {},
   "outputs": [],
   "source": [
    "cursor.execute(\"SELECT count(*) AS exact_count FROM tracts\")\n",
    "rows = cursor.fetchall()\n",
    "rows[0][0]"
   ]
  },
  {
   "cell_type": "code",
   "execution_count": null,
   "metadata": {},
   "outputs": [],
   "source": [
    "cursor.execute(\"SELECT geoid, aland, ST_AsText(geom) FROM tracts LIMIT 3\")\n",
    "rows = cursor.fetchall()\n",
    "gpd.GeoDataFrame(rows, columns=['GEOID', 'ALAND', 'geometry'])"
   ]
  },
  {
   "cell_type": "code",
   "execution_count": null,
   "metadata": {},
   "outputs": [],
   "source": [
    "cursor.execute(\"SELECT count(*) AS exact_count FROM points\")\n",
    "rows = cursor.fetchall()\n",
    "rows[0][0]"
   ]
  },
  {
   "cell_type": "code",
   "execution_count": null,
   "metadata": {},
   "outputs": [],
   "source": [
    "cursor.execute(\"\"\"SELECT date, region, bedrooms, rent, sqft, ST_AsText(geom)\n",
    "                  FROM points LIMIT 3\"\"\")\n",
    "rows = cursor.fetchall()\n",
    "gpd.GeoDataFrame(rows, columns=['date', 'region', 'bedrooms', 'rent', 'sqft', 'geometry'])"
   ]
  },
  {
   "cell_type": "markdown",
   "metadata": {},
   "source": [
    "## all done"
   ]
  },
  {
   "cell_type": "code",
   "execution_count": null,
   "metadata": {},
   "outputs": [],
   "source": [
    "cursor.close()\n",
    "connection.close()"
   ]
  },
  {
   "cell_type": "code",
   "execution_count": null,
   "metadata": {},
   "outputs": [],
   "source": []
  }
 ],
 "metadata": {
  "kernelspec": {
   "display_name": "Python 3",
   "language": "python",
   "name": "python3"
  },
  "language_info": {
   "codemirror_mode": {
    "name": "ipython",
    "version": 3
   },
   "file_extension": ".py",
   "mimetype": "text/x-python",
   "name": "python",
   "nbconvert_exporter": "python",
   "pygments_lexer": "ipython3",
   "version": "3.7.1"
  }
 },
 "nbformat": 4,
 "nbformat_minor": 2
}
