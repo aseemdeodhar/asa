{
 "cells": [
  {
   "cell_type": "code",
   "execution_count": null,
   "metadata": {},
   "outputs": [],
   "source": [
    "import geopandas as gpd\n",
    "import psycopg2\n",
    "from shapely.wkt import loads as wkt_loads\n",
    "from keys import pg_user, pg_pass, pg_host, pg_port, pg_db\n",
    "\n",
    "output_path = 'data/points_joined_tracts.csv'"
   ]
  },
  {
   "cell_type": "code",
   "execution_count": null,
   "metadata": {},
   "outputs": [],
   "source": [
    "connection = psycopg2.connect(database=pg_db,\n",
    "                              user=pg_user,\n",
    "                              password=pg_pass,\n",
    "                              host=pg_host,\n",
    "                              port=pg_port)\n",
    "cursor = connection.cursor()"
   ]
  },
  {
   "cell_type": "code",
   "execution_count": null,
   "metadata": {},
   "outputs": [],
   "source": [
    "# verify that the SRIDs match\n",
    "cursor.execute(\"\"\"SELECT\n",
    "                      Find_SRID('public', 'tracts', 'geom') as tracts_srid,\n",
    "                      Find_SRID('public', 'points', 'geom') as points_srid\"\"\")\n",
    "cursor.fetchall()"
   ]
  },
  {
   "cell_type": "code",
   "execution_count": null,
   "metadata": {},
   "outputs": [],
   "source": [
    "# joining how many rows to how many rows?\n",
    "cursor.execute(\"SELECT count(*) AS row_count FROM tracts\")\n",
    "count_tracts_table = cursor.fetchall()[0][0]\n",
    "cursor.execute(\"SELECT count(*) AS row_count FROM points\")\n",
    "count_points_table = cursor.fetchall()[0][0]\n",
    "count_tracts_table, count_points_table"
   ]
  },
  {
   "cell_type": "markdown",
   "metadata": {},
   "source": [
    "## Do the spatial join"
   ]
  },
  {
   "cell_type": "code",
   "execution_count": null,
   "metadata": {},
   "outputs": [],
   "source": [
    "%%time\n",
    "# drop the table if it already exists and recreate it\n",
    "# select distinct to keep only one point/tract pair even if the point lies on the border of multiple tracts\n",
    "query = \"\"\"\n",
    "        DROP TABLE IF EXISTS points_tracts;\n",
    "        CREATE TABLE points_tracts AS\n",
    "        SELECT DISTINCT ON (point_id)\n",
    "            points.id AS point_id,\n",
    "            points.date AS date,\n",
    "            points.region AS region,\n",
    "            points.bedrooms AS bedrooms,\n",
    "            points.rent AS rent,\n",
    "            points.sqft AS sqft,\n",
    "            points.geom AS geometry,\n",
    "            tracts.geoid AS tract_geoid\n",
    "        FROM points LEFT JOIN tracts\n",
    "        ON ST_Intersects(points.geom, tracts.geom)\n",
    "        \"\"\"\n",
    "\n",
    "cursor.execute(query)\n",
    "connection.commit()"
   ]
  },
  {
   "cell_type": "code",
   "execution_count": null,
   "metadata": {},
   "outputs": [],
   "source": [
    "%%time\n",
    "# vacuum and analyze the database to optimize it after building indices and inserting rows\n",
    "old_isolation_level = connection.isolation_level\n",
    "connection.set_isolation_level(0)\n",
    "cursor.execute(\"VACUUM ANALYZE\")\n",
    "connection.commit()\n",
    "connection.set_isolation_level(old_isolation_level)"
   ]
  },
  {
   "cell_type": "markdown",
   "metadata": {},
   "source": [
    "## Retrieve the data"
   ]
  },
  {
   "cell_type": "code",
   "execution_count": null,
   "metadata": {},
   "outputs": [],
   "source": [
    "# some points still lack tract geoid, as they are offshore or just across canada/mexico border\n",
    "cursor.execute(\"SELECT count(*) AS row_count, count(tract_geoid) AS geoid_count FROM points_tracts\")\n",
    "print(count_points_table)\n",
    "cursor.fetchall()"
   ]
  },
  {
   "cell_type": "code",
   "execution_count": null,
   "metadata": {},
   "outputs": [],
   "source": [
    "%%time\n",
    "# select the results from the new table, ignoring any points with null tract_geoid\n",
    "# because they are offshore or just across canada/mexico border\n",
    "cursor.execute(\"\"\"SELECT date, region, bedrooms, rent, sqft, ST_AsText(geometry), tract_geoid\n",
    "                  FROM points_tracts\n",
    "                  WHERE tract_geoid IS NOT NULL\"\"\")\n",
    "rows = cursor.fetchall()"
   ]
  },
  {
   "cell_type": "code",
   "execution_count": null,
   "metadata": {},
   "outputs": [],
   "source": [
    "cursor.close()\n",
    "connection.close()"
   ]
  },
  {
   "cell_type": "code",
   "execution_count": null,
   "metadata": {},
   "outputs": [],
   "source": [
    "%%time\n",
    "# turn the selected rows into a geodataframe\n",
    "gdf = gpd.GeoDataFrame(rows, columns=['date', 'region', 'bedrooms', 'rent', 'sqft', 'geometry', 'tract_geoid'])\n",
    "gdf['geometry'] = gdf['geometry'].map(lambda x: wkt_loads(x))\n",
    "gdf['lat'] = gdf['geometry'].map(lambda pt: pt.y)\n",
    "gdf['lng'] = gdf['geometry'].map(lambda pt: pt.x)\n",
    "gdf = gdf.drop('geometry', axis=1)"
   ]
  },
  {
   "cell_type": "code",
   "execution_count": null,
   "metadata": {},
   "outputs": [],
   "source": [
    "print(len(gdf))\n",
    "gdf.head()"
   ]
  },
  {
   "cell_type": "code",
   "execution_count": null,
   "metadata": {},
   "outputs": [],
   "source": [
    "%%time\n",
    "gdf.to_csv(output_path, encoding='utf-8', index=False)"
   ]
  },
  {
   "cell_type": "code",
   "execution_count": null,
   "metadata": {},
   "outputs": [],
   "source": []
  }
 ],
 "metadata": {
  "kernelspec": {
   "display_name": "Python 3",
   "language": "python",
   "name": "python3"
  },
  "language_info": {
   "codemirror_mode": {
    "name": "ipython",
    "version": 3
   },
   "file_extension": ".py",
   "mimetype": "text/x-python",
   "name": "python",
   "nbconvert_exporter": "python",
   "pygments_lexer": "ipython3",
   "version": "3.7.1"
  }
 },
 "nbformat": 4,
 "nbformat_minor": 2
}
