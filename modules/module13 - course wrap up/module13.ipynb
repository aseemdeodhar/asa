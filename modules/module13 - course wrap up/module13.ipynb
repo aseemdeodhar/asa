{
 "cells": [
  {
   "cell_type": "markdown",
   "metadata": {},
   "source": [
    "# Advanced Spatial Analysis\n",
    "# Module 10: Course Wrap Up\n",
    "\n",
    "This week we will review the lessons learned in the previous modules and hold a workshop to practice any tricky concepts."
   ]
  },
  {
   "cell_type": "code",
   "execution_count": null,
   "metadata": {},
   "outputs": [],
   "source": [
    "import geopandas as gpd\n",
    "import pysal as ps\n",
    "import statsmodels.api as sm\n",
    "from scipy import stats\n",
    "from statsmodels.tools.tools import add_constant\n",
    "\n",
    "%matplotlib inline"
   ]
  },
  {
   "cell_type": "code",
   "execution_count": null,
   "metadata": {},
   "outputs": [],
   "source": [
    "# load the data\n",
    "tracts = gpd.read_file('data/census_tracts_data.geojson')\n",
    "tracts.shape"
   ]
  },
  {
   "cell_type": "code",
   "execution_count": null,
   "metadata": {},
   "outputs": [],
   "source": [
    "# choose a response variable and drop any rows in which it is null\n",
    "response = 'med_home_value'\n",
    "tracts = tracts.dropna(subset=[response])"
   ]
  },
  {
   "cell_type": "code",
   "execution_count": null,
   "metadata": {},
   "outputs": [],
   "source": [
    "# map the data\n",
    "tracts.plot(column=response, scheme='quantiles')"
   ]
  },
  {
   "cell_type": "code",
   "execution_count": null,
   "metadata": {},
   "outputs": [],
   "source": [
    "tracts.columns"
   ]
  },
  {
   "cell_type": "markdown",
   "metadata": {},
   "source": [
    "## 1. Statistical models"
   ]
  },
  {
   "cell_type": "markdown",
   "metadata": {},
   "source": [
    "### 1a. Simple (bivariate) linear regression\n",
    "\n",
    "OLS regression with a single predictor"
   ]
  },
  {
   "cell_type": "code",
   "execution_count": null,
   "metadata": {},
   "outputs": [],
   "source": [
    "# create design matrix containing predictors (drop nulls), and a response variable vector\n",
    "predictors = 'med_household_income'\n",
    "X = tracts[predictors].dropna()\n",
    "y = tracts.loc[X.index][response]"
   ]
  },
  {
   "cell_type": "code",
   "execution_count": null,
   "metadata": {},
   "outputs": [],
   "source": [
    "# estimate a simple linear regression model with scipy\n",
    "m, b, r, p, se = stats.linregress(x=X, y=y)\n",
    "print('m={:.4f}, b={:.4f}, r^2={:.4f}, p={:.4f}'.format(m, b, r ** 2, p))"
   ]
  },
  {
   "cell_type": "code",
   "execution_count": null,
   "metadata": {},
   "outputs": [],
   "source": [
    "# estimate a simple linear regression model with statsmodels\n",
    "Xc = add_constant(X)\n",
    "model = sm.OLS(y, Xc)\n",
    "result = model.fit()\n",
    "print(result.summary())"
   ]
  },
  {
   "cell_type": "markdown",
   "metadata": {},
   "source": [
    "This single predictor explains about half the variation of the response. To explain more, we need more predictors.\n",
    "\n",
    "### 1b. Multiple regression\n",
    "\n",
    "OLS regression with multiple predictors"
   ]
  },
  {
   "cell_type": "code",
   "execution_count": null,
   "metadata": {},
   "outputs": [],
   "source": [
    "# create design matrix containing predictors (drop nulls), and a response variable vector\n",
    "predictors = ['med_household_income', 'pct_white']\n",
    "X = tracts[predictors].dropna()\n",
    "y = tracts.loc[X.index][response]"
   ]
  },
  {
   "cell_type": "code",
   "execution_count": null,
   "metadata": {},
   "outputs": [],
   "source": [
    "# estimate a linear regression model\n",
    "Xc = add_constant(X)\n",
    "model = sm.OLS(y, Xc)\n",
    "result = model.fit()\n",
    "print(result.summary())"
   ]
  },
  {
   "cell_type": "markdown",
   "metadata": {},
   "source": [
    "#### Now add in more variables..."
   ]
  },
  {
   "cell_type": "code",
   "execution_count": null,
   "metadata": {},
   "outputs": [],
   "source": [
    "tracts.columns"
   ]
  },
  {
   "cell_type": "code",
   "execution_count": null,
   "metadata": {},
   "outputs": [],
   "source": [
    "# create design matrix containing predictors (drop nulls), and a response variable vector\n",
    "predictors = ['med_household_income', 'pct_white', 'pct_single_family_home', 'pct_built_before_1940',\n",
    "              'med_rooms_per_home', 'pct_bachelors_degree']\n",
    "X = tracts[predictors].dropna()\n",
    "y = tracts.loc[X.index][response]"
   ]
  },
  {
   "cell_type": "code",
   "execution_count": null,
   "metadata": {},
   "outputs": [],
   "source": [
    "# estimate a linear regression model\n",
    "Xc = add_constant(X)\n",
    "model = sm.OLS(y, Xc)\n",
    "result = model.fit()\n",
    "print(result.summary())"
   ]
  },
  {
   "cell_type": "markdown",
   "metadata": {},
   "source": [
    "## 2. Spatial models\n",
    "\n",
    "Basic types:\n",
    "\n",
    "  - **Spatial heterogeneity**: account for systematic differences across space without explicitly modeling interdependency (non-spatial estimation)\n",
    "    - spatial fixed effects (intercept varies for each spatial group)\n",
    "    - spatial regimes (intercept and coefficients vary for each spatial group)\n",
    "  - **Spatial dependence**: model interdependencies between observations through space\n",
    "    - spatial lag model (spatially-lagged endogenous variable added as predictor;  because of endogeneity, cannot use OLS to estimate)\n",
    "    - spatial error model (spatial effects in error term)\n",
    "    - spatial lag+error combo model"
   ]
  },
  {
   "cell_type": "markdown",
   "metadata": {},
   "source": [
    "### 2a. Spatial fixed effects\n",
    "\n",
    "Using dummy variables representing the counties into which our observations (tracts) are nested"
   ]
  },
  {
   "cell_type": "code",
   "execution_count": null,
   "metadata": {},
   "outputs": [],
   "source": [
    "# create a new dummy variable for each county, with 1 if tract is in this county and 0 if not\n",
    "for county in tracts['COUNTYFP'].unique():\n",
    "    new_col = f'dummy_county_{county}'\n",
    "    tracts[new_col] = (tracts['COUNTYFP'] == county).astype(int)"
   ]
  },
  {
   "cell_type": "code",
   "execution_count": null,
   "metadata": {},
   "outputs": [],
   "source": [
    "# remove one dummy from dummies to prevent perfect collinearity\n",
    "# ie, a subset of predictors sums to 1 (which full set of dummies will do)\n",
    "county_dummies = [f'dummy_county_{county}' for county in tracts['COUNTYFP'].unique()]\n",
    "county_dummies = county_dummies[1:]"
   ]
  },
  {
   "cell_type": "code",
   "execution_count": null,
   "metadata": {},
   "outputs": [],
   "source": [
    "# create design matrix containing predictors (drop nulls), and a response variable vector\n",
    "predictors = ['med_household_income', 'pct_white', 'pct_single_family_home', 'pct_built_before_1940',\n",
    "              'med_rooms_per_home', 'pct_bachelors_degree']\n",
    "X = tracts[predictors + county_dummies].dropna()\n",
    "y = tracts.loc[X.index][response]"
   ]
  },
  {
   "cell_type": "code",
   "execution_count": null,
   "metadata": {},
   "outputs": [],
   "source": [
    "# estimate a linear regression model\n",
    "Xc = add_constant(X)\n",
    "model = sm.OLS(y, Xc)\n",
    "result = model.fit()\n",
    "print(result.summary())"
   ]
  },
  {
   "cell_type": "markdown",
   "metadata": {},
   "source": [
    "### 2b. Spatial regimes\n",
    "\n",
    "Each spatial regime can have different model coefficients. Here, the regimes are counties. We'll take a subset of our data (all the tracts appearing in 3 counties). This subsection just uses OLS for estimation, but you can also combine spatial regimes with spatial autogression models (the latter is introduced later)."
   ]
  },
  {
   "cell_type": "code",
   "execution_count": null,
   "metadata": {},
   "outputs": [],
   "source": [
    "# pick 3 counties as the regimes, and only estimate a regimes model for this subset\n",
    "counties = tracts['COUNTYFP'].value_counts().index[:3]\n",
    "mask = tracts['COUNTYFP'].isin(counties)"
   ]
  },
  {
   "cell_type": "code",
   "execution_count": null,
   "metadata": {},
   "outputs": [],
   "source": [
    "# create design matrix containing predictors (drop nulls), a response variable matrix, and a regimes vector\n",
    "X = tracts.loc[mask, predictors].dropna() #only take rows in the 3 counties\n",
    "Y = tracts.loc[X.index][[response]] #notice this is a matrix this time for pysal\n",
    "regimes = tracts.loc[X.index]['COUNTYFP'] #define the regimes"
   ]
  },
  {
   "cell_type": "code",
   "execution_count": null,
   "metadata": {},
   "outputs": [],
   "source": [
    "# estimate spatial regimes model with OLS\n",
    "olsr = ps.model.spreg.OLS_Regimes(y=Y.values, x=X.values, regimes=regimes.values, name_regimes='county',\n",
    "                                  name_x=X.columns.tolist(), name_y=response, name_ds='tracts')\n",
    "print(olsr.summary)"
   ]
  },
  {
   "cell_type": "markdown",
   "metadata": {},
   "source": [
    "### 2c. Spatial diagnostics\n",
    "\n",
    "So far we've seen two spatial heterogeneity models. Now we'll explore spatial dependence, starting by using queen-contiguity spatial weights to model spatial relationships between observations and OLS to check diagnostics."
   ]
  },
  {
   "cell_type": "code",
   "execution_count": null,
   "metadata": {},
   "outputs": [],
   "source": [
    "# create design matrix containing predictors (drop nulls), and a response variable matrix\n",
    "predictors = ['med_household_income', 'pct_white', 'pct_single_family_home', 'pct_built_before_1940',\n",
    "              'med_rooms_per_home', 'pct_bachelors_degree']\n",
    "X = tracts[predictors].dropna()\n",
    "Y = tracts.loc[X.index][[response]] #notice this is a matrix this time for pysal"
   ]
  },
  {
   "cell_type": "code",
   "execution_count": null,
   "metadata": {},
   "outputs": [],
   "source": [
    "# compute spatial weights from tract geometries (but only those tracts that appear in design matrix!)\n",
    "W = ps.lib.weights.Queen.from_dataframe(tracts.loc[X.index])\n",
    "W.transform = 'r'"
   ]
  },
  {
   "cell_type": "code",
   "execution_count": null,
   "metadata": {},
   "outputs": [],
   "source": [
    "# compute OLS spatial diagnostics to check the nature of spatial dependence\n",
    "ols = ps.model.spreg.OLS(y=Y.values, x=X.values, w=W, spat_diag=True, moran=True)"
   ]
  },
  {
   "cell_type": "code",
   "execution_count": null,
   "metadata": {},
   "outputs": [],
   "source": [
    "# calculate moran's I (for the response) and its significance\n",
    "mi = ps.explore.esda.Moran(y=Y, w=W, two_tailed=True)\n",
    "print(mi.I)\n",
    "print(mi.p_sim)"
   ]
  },
  {
   "cell_type": "code",
   "execution_count": null,
   "metadata": {},
   "outputs": [],
   "source": [
    "# moran's I (for the residuals): moran's i, standardized i, p-value\n",
    "ols.moran_res"
   ]
  },
  {
   "cell_type": "markdown",
   "metadata": {},
   "source": [
    "#### Interpreting the results\n",
    "\n",
    "A significant Moran's *I* suggests spatial autocorrelation, but doesn't tell us which alternative specification should be used. Lagrange Multiplier (LM) diagnostics can help with that. If one LM test is significant and the other isn't, then that tells us which model specification (spatial lag vs spatial error) to use:"
   ]
  },
  {
   "cell_type": "code",
   "execution_count": null,
   "metadata": {},
   "outputs": [],
   "source": [
    "# lagrange multiplier test for spatial lag model: stat, p\n",
    "ols.lm_lag"
   ]
  },
  {
   "cell_type": "code",
   "execution_count": null,
   "metadata": {},
   "outputs": [],
   "source": [
    "# lagrange multiplier test for spatial error model: stat, p\n",
    "ols.lm_error"
   ]
  },
  {
   "cell_type": "markdown",
   "metadata": {},
   "source": [
    "#### Interpreting the results\n",
    "\n",
    "If (and only if) both the LM tests produce significant statistics, try the robust versions (the nonrobust LM tests are sensitive to each other):"
   ]
  },
  {
   "cell_type": "code",
   "execution_count": null,
   "metadata": {},
   "outputs": [],
   "source": [
    "# robust lagrange multiplier test for spatial lag model: stat, p\n",
    "ols.rlm_lag"
   ]
  },
  {
   "cell_type": "code",
   "execution_count": null,
   "metadata": {},
   "outputs": [],
   "source": [
    "# robust lagrange multiplier test for spatial error model: stat, p\n",
    "ols.rlm_error"
   ]
  },
  {
   "cell_type": "markdown",
   "metadata": {},
   "source": [
    "#### So... which model specification to choose?\n",
    "\n",
    "If neither LM test is significant: use regular OLS.\n",
    "\n",
    "If only one LM test is significant: use that model spec.\n",
    "\n",
    "If both LM tests are significant: run robust versions.\n",
    "\n",
    "If only one robust LM test is significant: use that model spec.\n",
    "\n",
    "If both robust LM tests are significant (this can often happen with large sample sizes):\n",
    "\n",
    "  - first consider if the initial model specification is actually a good fit\n",
    "  - if so, use the spatial specification corresponding to the larger robust-LM statistic\n",
    "  - or consider a combo model\n",
    "\n",
    "### 2d. Spatial lag model\n",
    "\n",
    "When the diagnostics indicate the presence of a spatial diffusion process.\n",
    "\n",
    "Model specification:\n",
    "\n",
    "$y = \\rho W y + X \\beta + u$\n",
    "\n",
    "where $y$ is a $n \\times 1$ vector of observations (response), $W$ is a $n \\times n$ spatial weights matrix (thus $Wy$ is the spatially-lagged response), $\\rho$ is the spatial autoregressive parameter to be estimated, $X$ is a $n \\times k$ matrix of observations (exogenous predictors), $\\beta$ is a $k \\times 1$ vector of parameters (coefficients) to be estimated, and $u$ is a $n \\times 1$ vector of errors."
   ]
  },
  {
   "cell_type": "code",
   "execution_count": null,
   "metadata": {},
   "outputs": [],
   "source": [
    "# maximum-likelihood estimation with full matrix expression\n",
    "mll = ps.model.spreg.ML_Lag(y=Y.values, x=X.values, w=W, method='full', name_w='queen',\n",
    "                            name_x=X.columns.tolist(), name_y=response, name_ds='tracts')\n",
    "print(mll.summary)"
   ]
  },
  {
   "cell_type": "code",
   "execution_count": null,
   "metadata": {},
   "outputs": [],
   "source": [
    "# the spatial autoregressive parameter estimate, rho\n",
    "mll.rho"
   ]
  },
  {
   "cell_type": "markdown",
   "metadata": {},
   "source": [
    "### 2e. Spatial error model\n",
    "\n",
    "When the diagnostics indicate the presence of spatial error dependence.\n",
    "\n",
    "Model specification:\n",
    "\n",
    "$y = X \\beta + u$\n",
    "\n",
    "where $X$ is a $n \\times k$ matrix of observations (exogenous predictors), $\\beta$ is a $k \\times 1$ vector of parameters (coefficients) to be estimated, and $u$ is a $n \\times 1$ vector of errors. The errors $u$ follow a spatial autoregressive specification:\n",
    "\n",
    "$u = \\lambda Wu + \\epsilon$\n",
    "\n",
    "where $\\lambda$ is a spatial autoregressive parameter to be estimated and $\\epsilon$ is the vector of errors."
   ]
  },
  {
   "cell_type": "code",
   "execution_count": null,
   "metadata": {},
   "outputs": [],
   "source": [
    "# maximum-likelihood estimation with full matrix expression\n",
    "mle = ps.model.spreg.ML_Error(y=Y.values, x=X.values, w=W, method='full', name_w='queen',\n",
    "                            name_x=X.columns.tolist(), name_y=response, name_ds='tracts')\n",
    "print(mle.summary)"
   ]
  },
  {
   "cell_type": "code",
   "execution_count": null,
   "metadata": {},
   "outputs": [],
   "source": [
    "# the spatial autoregressive parameter estimate, lambda\n",
    "mle.lam"
   ]
  },
  {
   "cell_type": "markdown",
   "metadata": {},
   "source": [
    "### 2f. Spatial lag+error combo model\n",
    "\n",
    "Estimated with GMM (generalized method of moments). Essentially a spatial error model with endogenous explanatory variables.\n",
    "\n",
    "Model specification:\n",
    "\n",
    "$y = \\rho W y + X \\beta + u$\n",
    "\n",
    "where $y$ is a $n \\times 1$ vector of observations (response), $W$ is a $n \\times n$ spatial weights matrix (thus $Wy$ is the spatially-lagged response), $\\rho$ is the spatial autoregressive parameter to be estimated, $X$ is a $n \\times k$ matrix of observations (exogenous predictors), $\\beta$ is a $k \\times 1$ vector of parameters (coefficients) to be estimated, and $u$ is a $n \\times 1$ vector of errors.\n",
    "\n",
    "The errors $u$ follow a spatial autoregressive specification:\n",
    "\n",
    "$u = \\lambda Wu + \\epsilon$\n",
    "\n",
    "where $\\lambda$ is a spatial autoregressive parameter to be estimated and $\\epsilon$ is the vector of errors."
   ]
  },
  {
   "cell_type": "code",
   "execution_count": null,
   "metadata": {},
   "outputs": [],
   "source": [
    "gmc = ps.model.spreg.GM_Combo_Het(y=Y.values, x=X.values, w=W, name_w='queen', name_ds='tracts',\n",
    "                                  name_x=X.columns.tolist(), name_y=response)\n",
    "print(gmc.summary)"
   ]
  }
 ],
 "metadata": {
  "kernelspec": {
   "display_name": "Python (asa)",
   "language": "python",
   "name": "asa"
  },
  "language_info": {
   "codemirror_mode": {
    "name": "ipython",
    "version": 3
   },
   "file_extension": ".py",
   "mimetype": "text/x-python",
   "name": "python",
   "nbconvert_exporter": "python",
   "pygments_lexer": "ipython3",
   "version": "3.7.1"
  }
 },
 "nbformat": 4,
 "nbformat_minor": 2
}
